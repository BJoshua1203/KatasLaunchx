{
 "cells": [
  {
   "cell_type": "markdown",
   "metadata": {},
   "source": [
    "# Funciones\n"
   ]
  },
  {
   "cell_type": "code",
   "execution_count": 11,
   "metadata": {},
   "outputs": [],
   "source": [
    "def lectura(Tank1,Tank2,Tank3):\n",
    "    prom = (Tank1 + Tank2 + Tank3)/3\n",
    "    return f\"\"\" Reporte\n",
    "    tanque 1 = {Tank1}\n",
    "    tanque 2 = {Tank2}\n",
    "    tanque 3 = {Tank3}\n",
    "    promedio = {prom}\n",
    "    \"\"\"\n"
   ]
  },
  {
   "cell_type": "code",
   "execution_count": 12,
   "metadata": {},
   "outputs": [
    {
     "name": "stdout",
     "output_type": "stream",
     "text": [
      " Reporte\n",
      "    tanque 1 = 6\n",
      "    tanque 2 = 5\n",
      "    tanque 3 = 8\n",
      "    promedio = 6.333333333333333\n",
      "    \n"
     ]
    }
   ],
   "source": [
    "print(lectura(6,5,8))"
   ]
  },
  {
   "cell_type": "code",
   "execution_count": 30,
   "metadata": {},
   "outputs": [],
   "source": [
    "def prom (v1,v2,v3):\n",
    "    tot = v1 +v2+v3\n",
    "    promedio = tot/3\n",
    "    return promedio\n",
    "    "
   ]
  },
  {
   "cell_type": "code",
   "execution_count": 35,
   "metadata": {},
   "outputs": [],
   "source": [
    "def lectura(Tank1,Tank2,Tank3):\n",
    "   \n",
    "    return f\"\"\" Reporte\n",
    "    tanque 1 = {Tank1}\n",
    "    tanque 2 = {Tank2}\n",
    "    tanque 3 = {Tank3}\n",
    "    promedio = {  prom(Tank1,Tank2,Tank3)}\n",
    "    \"\"\""
   ]
  },
  {
   "cell_type": "code",
   "execution_count": 36,
   "metadata": {},
   "outputs": [
    {
     "name": "stdout",
     "output_type": "stream",
     "text": [
      " Reporte\n",
      "    tanque 1 = 6\n",
      "    tanque 2 = 5\n",
      "    tanque 3 = 8\n",
      "    promedio = 6.333333333333333\n",
      "    \n"
     ]
    }
   ],
   "source": [
    "print(lectura(6,5,8))"
   ]
  },
  {
   "cell_type": "code",
   "execution_count": 38,
   "metadata": {},
   "outputs": [
    {
     "name": "stdout",
     "output_type": "stream",
     "text": [
      "\n",
      "    la hora de lanzamiento fue 14\n",
      "    el tiempo de vuelo es de 5 minutos\n",
      "    nos dirigimos a Venus\n",
      "    niveles del tanque externo 5000 litros\n",
      "    niveles del tanque interno 1000 litros\n",
      "    \n"
     ]
    }
   ],
   "source": [
    "def informe (hora, tiempo, destino, tanqueE, tanqueI):\n",
    "    return f\"\"\"\n",
    "    la hora de lanzamiento fue {hora}\n",
    "    el tiempo de vuelo es de {tiempo} minutos\n",
    "    nos dirigimos a {destino}\n",
    "    niveles del tanque externo {tanqueE} litros\n",
    "    niveles del tanque interno {tanqueI} litros\n",
    "    \"\"\"\n",
    "\n",
    "print(informe(14,5,\"Venus\",5000,1000))"
   ]
  },
  {
   "cell_type": "code",
   "execution_count": 55,
   "metadata": {},
   "outputs": [
    {
     "name": "stdout",
     "output_type": "stream",
     "text": [
      "\n",
      "    el tiempo de vuelo es de 52 minutos\n",
      "    nos dirigimos a Venus\n",
      "    niveles del tanque externo 5800\n",
      "    \n"
     ]
    }
   ],
   "source": [
    "def informe (destino, *tiempo, **tanques):\n",
    "    return f\"\"\"\n",
    "    el tiempo de vuelo es de {sum(tiempo)} minutos\n",
    "    nos dirigimos a {destino}\n",
    "    niveles del tanque general {sum(tanques.values())}\n",
    "    \"\"\"\n",
    "\n",
    "print(informe(\"Venus\",2,50 ,tanque1=5000,tanque2=800))"
   ]
  },
  {
   "cell_type": "code",
   "execution_count": 62,
   "metadata": {},
   "outputs": [
    {
     "name": "stdout",
     "output_type": "stream",
     "text": [
      "\n",
      "    el tiempo de vuelo es de 112 minutos\n",
      "    nos dirigimos a Venus\n",
      "    niveles del tanque general 5800\n",
      "    tanque interno  = 5000 \n",
      "tanque externo  = 800 \n",
      "\n"
     ]
    }
   ],
   "source": [
    "def informe (destino, *tiempo, **tanques):\n",
    "    reporte = f\"\"\"\n",
    "    el tiempo de vuelo es de {sum(tiempo)} minutos\n",
    "    nos dirigimos a {destino}\n",
    "    niveles del tanque general {sum(tanques.values())}\n",
    "    \"\"\"\n",
    "    for nam, li in tanques.items():\n",
    "        reporte = reporte + f\"tanque {nam}  = {li} \\n\"\n",
    "    return reporte\n",
    "\n",
    "print(informe(\"Venus\",2,50 , 60,interno=5000,externo=800))"
   ]
  }
 ],
 "metadata": {
  "interpreter": {
   "hash": "f34ebdf6de1ee696c9aaa2bc4fd4c84c21a4e4125fb9fa6854edf36edc98e9ab"
  },
  "kernelspec": {
   "display_name": "Python 3.7.6 ('base')",
   "language": "python",
   "name": "python3"
  },
  "language_info": {
   "codemirror_mode": {
    "name": "ipython",
    "version": 3
   },
   "file_extension": ".py",
   "mimetype": "text/x-python",
   "name": "python",
   "nbconvert_exporter": "python",
   "pygments_lexer": "ipython3",
   "version": "3.7.6"
  },
  "orig_nbformat": 4
 },
 "nbformat": 4,
 "nbformat_minor": 2
}

{
 "cells": [
  {
   "cell_type": "markdown",
   "metadata": {},
   "source": [
    "# Operadores aritméticos    "
   ]
  },
  {
   "cell_type": "code",
   "execution_count": 1,
   "metadata": {},
   "outputs": [],
   "source": [
    "tierra = 149597870 #km\n",
    "jupiter = 778547200 #km"
   ]
  },
  {
   "cell_type": "code",
   "execution_count": 4,
   "metadata": {},
   "outputs": [
    {
     "name": "stdout",
     "output_type": "stream",
     "text": [
      "390577533.93 millas\n"
     ]
    }
   ],
   "source": [
    "distance = (jupiter - tierra)*0.621\n",
    "print(distance, \"millas\")"
   ]
  },
  {
   "cell_type": "code",
   "execution_count": 7,
   "metadata": {},
   "outputs": [],
   "source": [
    "firstP = input(\"Distancia del primer planeta: \")\n",
    "secondP = input(\"distancia del segundo planeta: \")"
   ]
  },
  {
   "cell_type": "code",
   "execution_count": 8,
   "metadata": {},
   "outputs": [],
   "source": [
    "firstP = int(firstP)\n",
    "secondP = int(secondP)"
   ]
  },
  {
   "cell_type": "code",
   "execution_count": 10,
   "metadata": {},
   "outputs": [
    {
     "name": "stdout",
     "output_type": "stream",
     "text": [
      "20 km\n",
      "12.42 millas\n"
     ]
    }
   ],
   "source": [
    "dKM = secondP-firstP\n",
    "print(dKM, \"km\")\n",
    "dMill = abs(dKM*0.621)\n",
    "print(dMill, \"millas\")"
   ]
  }
 ],
 "metadata": {
  "interpreter": {
   "hash": "f34ebdf6de1ee696c9aaa2bc4fd4c84c21a4e4125fb9fa6854edf36edc98e9ab"
  },
  "kernelspec": {
   "display_name": "Python 3.7.6 ('base')",
   "language": "python",
   "name": "python3"
  },
  "language_info": {
   "codemirror_mode": {
    "name": "ipython",
    "version": 3
   },
   "file_extension": ".py",
   "mimetype": "text/x-python",
   "name": "python",
   "nbconvert_exporter": "python",
   "pygments_lexer": "ipython3",
   "version": "3.7.6"
  },
  "orig_nbformat": 4
 },
 "nbformat": 4,
 "nbformat_minor": 2
}

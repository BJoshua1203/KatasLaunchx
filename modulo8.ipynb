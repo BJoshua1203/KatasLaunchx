{
 "cells": [
  {
   "cell_type": "markdown",
   "metadata": {},
   "source": [
    "# Diccionarios\n"
   ]
  },
  {
   "cell_type": "code",
   "execution_count": 19,
   "metadata": {},
   "outputs": [],
   "source": [
    "planet={\"Name\":\"Mars\",\"moons\":2}\n"
   ]
  },
  {
   "cell_type": "code",
   "execution_count": 21,
   "metadata": {},
   "outputs": [
    {
     "name": "stdout",
     "output_type": "stream",
     "text": [
      "El nombre del planeta es  Mars  \n",
      "lunas:  2\n"
     ]
    }
   ],
   "source": [
    "planet.get(\"Mars\")\n",
    "\n",
    "print(\"El nombre del planeta es \", planet.get(\"Name\"), \" \\nlunas: \", planet.get(\"moons\"))"
   ]
  },
  {
   "cell_type": "code",
   "execution_count": 22,
   "metadata": {},
   "outputs": [],
   "source": [
    "planet[\"circunferencia\"]={ \"polar\":6752,\"equatorial\":6792}"
   ]
  },
  {
   "cell_type": "code",
   "execution_count": 31,
   "metadata": {},
   "outputs": [
    {
     "name": "stdout",
     "output_type": "stream",
     "text": [
      "El planeta es  Mars Su circunferencia es  6752\n"
     ]
    }
   ],
   "source": [
    "print(\"El planeta es \",planet.get(\"Name\"),\"Su circunferencia es \",planet[\"circunferencia\"][\"polar\"])"
   ]
  },
  {
   "cell_type": "markdown",
   "metadata": {},
   "source": [
    "# Programación dinámica con diccionarios"
   ]
  },
  {
   "cell_type": "code",
   "execution_count": 32,
   "metadata": {},
   "outputs": [],
   "source": [
    "planet_moons = {\n",
    "    'mercury': 0,\n",
    "    'venus': 0,\n",
    "    'earth': 1,\n",
    "    'mars': 2,\n",
    "    'jupiter': 79,\n",
    "    'saturn': 82,\n",
    "    'uranus': 27,\n",
    "    'neptune': 14,\n",
    "    'pluto': 5,\n",
    "    'haumea': 2,\n",
    "    'makemake': 1,\n",
    "    'eris': 1\n",
    "}"
   ]
  },
  {
   "cell_type": "code",
   "execution_count": 51,
   "metadata": {},
   "outputs": [
    {
     "name": "stdout",
     "output_type": "stream",
     "text": [
      "dict_values([0, 0, 1, 2, 79, 82, 27, 14, 5, 2, 1, 1])\n",
      "12\n",
      "Lunas totales:  214\n",
      "Promedio de lunas:  17.833333333333332\n"
     ]
    }
   ],
   "source": [
    "moons = planet_moons.values()\n",
    "print(moons)\n",
    "planets= len(planet_moons)\n",
    "print(planets)\n",
    "val = 0\n",
    "\n",
    "for moon in moons:\n",
    "    val = val + moon\n",
    "\n",
    "print(\"Lunas totales: \",val)\n",
    "prom = val/planets\n",
    "print(\"Promedio de lunas: \",prom)"
   ]
  }
 ],
 "metadata": {
  "interpreter": {
   "hash": "f34ebdf6de1ee696c9aaa2bc4fd4c84c21a4e4125fb9fa6854edf36edc98e9ab"
  },
  "kernelspec": {
   "display_name": "Python 3.7.6 ('base')",
   "language": "python",
   "name": "python3"
  },
  "language_info": {
   "codemirror_mode": {
    "name": "ipython",
    "version": 3
   },
   "file_extension": ".py",
   "mimetype": "text/x-python",
   "name": "python",
   "nbconvert_exporter": "python",
   "pygments_lexer": "ipython3",
   "version": "3.7.6"
  },
  "orig_nbformat": 4
 },
 "nbformat": 4,
 "nbformat_minor": 2
}

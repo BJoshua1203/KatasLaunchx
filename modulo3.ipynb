{
 "cells": [
  {
   "cell_type": "markdown",
   "metadata": {},
   "source": [
    "# lógica condicional\n"
   ]
  },
  {
   "cell_type": "markdown",
   "metadata": {},
   "source": [
    "## Un asteroide se acerca, y viaja a una velocidad de 49 km/s."
   ]
  },
  {
   "cell_type": "code",
   "execution_count": 1,
   "metadata": {},
   "outputs": [
    {
     "name": "stdout",
     "output_type": "stream",
     "text": [
      "El asteroide va demasiado ráido\n"
     ]
    }
   ],
   "source": [
    "vAst = 49\n",
    "if vAst > 25 :\n",
    "    print(\"El asteroide va demasiado ráido\")\n",
    "else    :\n",
    "    print(\"todo ok\")"
   ]
  },
  {
   "cell_type": "markdown",
   "metadata": {},
   "source": [
    " ## ¡Hay uno que se dirige a la tierra ahora a una velocidad de 19 km/s!"
   ]
  },
  {
   "cell_type": "code",
   "execution_count": 3,
   "metadata": {},
   "outputs": [
    {
     "name": "stdout",
     "output_type": "stream",
     "text": [
      "no se verá nada xd\n"
     ]
    }
   ],
   "source": [
    "vAst2 = 19\n",
    "if vAst2 >= 20:\n",
    "    print(\"Hay un asteroide visible\")\n",
    "else:\n",
    "    print(\"no se verá nada xd\")"
   ]
  }
 ],
 "metadata": {
  "interpreter": {
   "hash": "2be5faf79681da6f2a61fdfdd5405d65d042280f7fba6178067603e3a2925119"
  },
  "kernelspec": {
   "display_name": "Python 3.10.2 64-bit",
   "language": "python",
   "name": "python3"
  },
  "language_info": {
   "codemirror_mode": {
    "name": "ipython",
    "version": 3
   },
   "file_extension": ".py",
   "mimetype": "text/x-python",
   "name": "python",
   "nbconvert_exporter": "python",
   "pygments_lexer": "ipython3",
   "version": "3.10.2"
  },
  "orig_nbformat": 4
 },
 "nbformat": 4,
 "nbformat_minor": 2
}
